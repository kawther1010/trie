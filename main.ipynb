{
 "cells": [
  {
   "cell_type": "markdown",
   "metadata": {},
   "source": [
    "0.IMPORT AND INSTALL"
   ]
  },
  {
   "cell_type": "code",
   "execution_count": 82,
   "metadata": {},
   "outputs": [],
   "source": [
    "#(https://dreampuf.github.io/GraphvizOnline/) to visualize the DOT files as images. need to download it /add path to sys vars & import it later.\n",
    "#pip install graphviz\n",
    "from graphviz import Digraph"
   ]
  },
  {
   "cell_type": "markdown",
   "metadata": {},
   "source": [
    "1. QUICK SORT"
   ]
  },
  {
   "cell_type": "code",
   "execution_count": 83,
   "metadata": {},
   "outputs": [],
   "source": [
    "\n",
    "\"\"\"\n",
    "def quicksort(arr):\n",
    "    if len(arr) <= 1:\n",
    "        return arr, \"\"\n",
    "\n",
    "    pivot = arr[0]\n",
    "    left = [x for x in arr[1:] if x <= pivot]\n",
    "    right = [x for x in arr[1:] if x > pivot]\n",
    "\n",
    "    sorted_list, tree_str_left = quicksort(left)\n",
    "    _, tree_str_right = quicksort(right)\n",
    "\n",
    "    tree_str = f'\"{pivot}\" [label=\"{pivot}\"];\\n'\n",
    "    tree_str += f'\"{pivot}\" -> {tree_str_left.strip()} [label=\"L\"];\\n'\n",
    "    tree_str += f'\"{pivot}\" -> {tree_str_right.strip()} [label=\"R\"];\\n'\n",
    "\n",
    "    return sorted_list, tree_str\n",
    "\n",
    "\"\"\"\n",
    "def quicksort(arr, depth=0):\n",
    "    \n",
    "    #if len(arr) <= 1:\n",
    "       # return arr\n",
    "    \n",
    "    if not arr:\n",
    "        return \"\", []\n",
    "    else:\n",
    "        pivot = arr[0]\n",
    "    left = [x for x in arr[1:] if x <= pivot]\n",
    "    right = [x for x in arr[1:] if x > pivot]\n",
    "\n",
    "    tree_str = f'\"{pivot}\" [label=\"{pivot}\"];\\n'\n",
    "    tree_str += quicksort(left, depth + 1)[0]\n",
    "    tree_str += quicksort(right, depth + 1)[0]\n",
    "\n",
    "    sorted_list = quicksort(left, depth + 1)[1] + [pivot] + quicksort(right, depth + 1)[1]\n",
    "\n",
    "    return tree_str, sorted_list"
   ]
  },
  {
   "cell_type": "code",
   "execution_count": 84,
   "metadata": {},
   "outputs": [],
   "source": [
    "\"\"\"\n",
    "def draw_quicksort_tree(arr, depth=0):\n",
    "    if not arr:\n",
    "        return \"\"\n",
    "\n",
    "    pivot = arr[0]\n",
    "    left = [x for x in arr[1:] if x <= pivot]\n",
    "    right = [x for x in arr[1:] if x > pivot]\n",
    "\n",
    "    tree_str = \"  \" * depth + str(pivot) + \"\\n\"\n",
    "    tree_str += draw_quicksort_tree(left, depth + 1)\n",
    "    tree_str += draw_quicksort_tree(right, depth + 1)\n",
    "\n",
    "    return tree_str\n",
    "\"\"\"\n",
    "def quicksort_dot(arr):\n",
    "    sorted_list, tree_str = quicksort(arr)\n",
    "\n",
    "    dot_code = f\"digraph G {{\\n{tree_str.strip()}\\n}}\"\n",
    "    with open(\"dot/quicksort_tree.dot\", \"w\") as dot_file:\n",
    "        dot_file.write(dot_code)\n",
    "\n",
    "    return sorted_list"
   ]
  },
  {
   "cell_type": "markdown",
   "metadata": {},
   "source": [
    "2. Binary Search Tree"
   ]
  },
  {
   "cell_type": "code",
   "execution_count": 85,
   "metadata": {},
   "outputs": [],
   "source": [
    "# Node class for binary search tree\n",
    "class Node:\n",
    "    def __init__(self, value):\n",
    "        self.value = value\n",
    "        self.left = None\n",
    "        self.right = None\n",
    "\n",
    "# Function to insert a node in the binary search tree\n",
    "def insert(root, value):\n",
    "    if root is None:\n",
    "        return Node(value)\n",
    "    if value < root.value:\n",
    "        root.left = insert(root.left, value)\n",
    "    else:\n",
    "        root.right = insert(root.right, value)\n",
    "    return root"
   ]
  },
  {
   "cell_type": "code",
   "execution_count": 86,
   "metadata": {},
   "outputs": [],
   "source": [
    "def draw_binary_tree_dot(root, dot, depth=0):\n",
    "    if root is None:\n",
    "        return \"\"\n",
    "\n",
    "    tree_str = f'\"{root.value}\" [label=\"{root.value}\"];\\n'\n",
    "    if root.left:\n",
    "        tree_str += f'\"{root.value}\" -> \"{root.left.value}\";\\n'\n",
    "    if root.right:\n",
    "        tree_str += f'\"{root.value}\" -> \"{root.right.value}\";\\n'\n",
    "\n",
    "    tree_str += draw_binary_tree_dot(root.left, dot, depth + 1)\n",
    "    tree_str += draw_binary_tree_dot(root.right, dot, depth + 1)\n",
    "\n",
    "    dot.node(f'{root.value}', label=str(root.value))\n",
    "\n",
    "    if root.left:\n",
    "        dot.edge(f'{root.value}', f'{root.left.value}')\n",
    "    if root.right:\n",
    "        dot.edge(f'{root.value}', f'{root.right.value}')\n",
    "\n",
    "    return tree_str"
   ]
  },
  {
   "cell_type": "markdown",
   "metadata": {},
   "source": [
    "3. IMPLIMENTATION"
   ]
  },
  {
   "cell_type": "code",
   "execution_count": 87,
   "metadata": {},
   "outputs": [],
   "source": [
    "def read_list_from_file(filename):\n",
    "    with open(filename, 'r') as file:\n",
    "        return [int(line.strip()) for line in file]"
   ]
  },
  {
   "cell_type": "code",
   "execution_count": 88,
   "metadata": {},
   "outputs": [],
   "source": [
    "# Specify the file name containing the list of numbers\n",
    "file_name = 'numbers.txt'"
   ]
  },
  {
   "cell_type": "code",
   "execution_count": 89,
   "metadata": {},
   "outputs": [],
   "source": [
    "# Read the list from the file\n",
    "original_list = read_list_from_file(file_name)"
   ]
  },
  {
   "cell_type": "code",
   "execution_count": 90,
   "metadata": {},
   "outputs": [],
   "source": [
    "# Create binary search tree\n",
    "binary_search_tree = None\n",
    "for num in original_list:\n",
    "    binary_search_tree = insert(binary_search_tree, num)"
   ]
  },
  {
   "cell_type": "code",
   "execution_count": 91,
   "metadata": {},
   "outputs": [
    {
     "name": "stdout",
     "output_type": "stream",
     "text": [
      "[1, 4, 7, 8, 21, 28, 55, 56, 99, 115]\n",
      "\n",
      " \"21\" [label=\"21\"];\n",
      "\"7\" [label=\"7\"];\n",
      "\"4\" [label=\"4\"];\n",
      "\"1\" [label=\"1\"];\n",
      "\"8\" [label=\"8\"];\n",
      "\"56\" [label=\"56\"];\n",
      "\"28\" [label=\"28\"];\n",
      "\"55\" [label=\"55\"];\n",
      "\"99\" [label=\"99\"];\n",
      "\"115\" [label=\"115\"];\n",
      "\n"
     ]
    }
   ],
   "source": [
    "# Generate DOT source for quicksort tree and get the sorted list\n",
    "quicksort_dot, quicksort_sorted_list = quicksort(original_list)\n",
    "print(quicksort_sorted_list)\n",
    "print(\"\\n\", quicksort_dot)"
   ]
  },
  {
   "cell_type": "code",
   "execution_count": 92,
   "metadata": {},
   "outputs": [],
   "source": [
    "# Save DOT source to files for quicksort tree and binary search tree\n",
    "with open('dot/quicksort_tree.dot', 'w') as quicksort_file:\n",
    "    quicksort_file.write(quicksort_dot)\n",
    "\n",
    "binary_search_tree_dot = Digraph(comment='Binary Search Tree')\n",
    "draw_binary_tree_dot(binary_search_tree, binary_search_tree_dot)\n",
    "\n",
    "with open('dot/binary_tree.dot', 'w') as binary_tree_file:\n",
    "    binary_tree_file.write(binary_search_tree_dot.source)"
   ]
  },
  {
   "cell_type": "code",
   "execution_count": 93,
   "metadata": {},
   "outputs": [
    {
     "data": {
      "text/plain": [
       "'png/binary_tree.png'"
      ]
     },
     "execution_count": 93,
     "metadata": {},
     "output_type": "execute_result"
    }
   ],
   "source": [
    "# Render quicksort DOT file to a PNG image\n",
    "quicksort_image_path = 'png/quicksort_tree'\n",
    "dot_quicksort = Digraph(comment='Quicksort Tree')\n",
    "dot_quicksort.render(quicksort_image_path, format='png', cleanup=True)\n",
    "\n",
    "# Render binary search tree DOT file to a PNG image\n",
    "binary_search_tree_image_path = 'png/binary_tree'\n",
    "binary_search_tree_dot.render(binary_search_tree_image_path, format='png', cleanup=True)"
   ]
  },
  {
   "cell_type": "code",
   "execution_count": 94,
   "metadata": {},
   "outputs": [],
   "source": [
    "# Generate HTML content\n",
    "html_content = f'''\n",
    "<!DOCTYPE html>\n",
    "<html lang=\"en\">\n",
    "<head>\n",
    "    <meta charset=\"UTF-8\">\n",
    "    <meta name=\"viewport\" content=\"width=device-width, initial-scale=1.0\">\n",
    "    <title>Tree Visualization</title>\n",
    "</head>\n",
    "<body>\n",
    "\n",
    "<h1>Tree Visualization</h1>\n",
    "\n",
    "<h2>Original List</h2>\n",
    "<table border=\"1\">\n",
    "    <tr>\n",
    "        <!-- Header Row -->\n",
    "        {\" \".join(f'<th>{i}</th>' for i in range(len(original_list)))}\n",
    "    </tr>\n",
    "    <tr>\n",
    "        <!-- Values Row -->\n",
    "        {\" \".join(f'<td>{value}</td>' for value in original_list)}\n",
    "    </tr>\n",
    "</table>\n",
    "\n",
    "<h2>Quicksort Tree Visualization</h2>\n",
    "<img src=\"{quicksort_image_path}.png\" alt=\"Quicksort Tree\" style=\"max-width: 100%;\">\n",
    "\n",
    "<h2>Sorted List (Quicksort)</h2>\n",
    "<table border=\"1\">\n",
    "    <tr>\n",
    "        <!-- Header Row -->\n",
    "        {\" \".join(f'<th>{i}</th>' for i in range(len(quicksort_sorted_list)))}\n",
    "    </tr>\n",
    "    <tr>\n",
    "        <!-- Values Row -->\n",
    "        {\" \".join(f'<td>{value}</td>' for value in quicksort_sorted_list)}\n",
    "    </tr>\n",
    "</table>\n",
    "\n",
    "<h2>Binary Search Tree Visualization</h2>\n",
    "<img src=\"{binary_search_tree_image_path}.png\" alt=\"Binary Search Tree\" style=\"max-width: 100%;\">\n",
    "\n",
    "</body>\n",
    "</html>\n",
    "'''"
   ]
  },
  {
   "cell_type": "markdown",
   "metadata": {},
   "source": [
    "4. DISPLAYING"
   ]
  },
  {
   "cell_type": "code",
   "execution_count": 95,
   "metadata": {},
   "outputs": [
    {
     "data": {
      "text/plain": [
       "True"
      ]
     },
     "execution_count": 95,
     "metadata": {},
     "output_type": "execute_result"
    }
   ],
   "source": [
    "# Save HTML content to a file\n",
    "with open('tree_visualization.html', 'w') as html_file:\n",
    "    html_file.write(html_content)\n",
    "\n",
    "# Open the HTML file in a web browser\n",
    "import webbrowser\n",
    "webbrowser.open('tree_visualization.html')"
   ]
  }
 ],
 "metadata": {
  "kernelspec": {
   "display_name": "Python 3",
   "language": "python",
   "name": "python3"
  },
  "language_info": {
   "codemirror_mode": {
    "name": "ipython",
    "version": 3
   },
   "file_extension": ".py",
   "mimetype": "text/x-python",
   "name": "python",
   "nbconvert_exporter": "python",
   "pygments_lexer": "ipython3",
   "version": "3.8.10"
  }
 },
 "nbformat": 4,
 "nbformat_minor": 2
}
