{
 "cells": [
  {
   "cell_type": "markdown",
   "metadata": {},
   "source": [
    "0.IMPORT AND INSTALL"
   ]
  },
  {
   "cell_type": "code",
   "execution_count": 62,
   "metadata": {},
   "outputs": [],
   "source": [
    "#(https://dreampuf.github.io/GraphvizOnline/) to visualize the DOT files as images. need to download it /add path to sys vars & import it later.\n",
    "#pip install graphviz\n",
    "from graphviz import Digraph\n",
    "import subprocess"
   ]
  },
  {
   "cell_type": "markdown",
   "metadata": {},
   "source": [
    "1. QUICK SORT"
   ]
  },
  {
   "cell_type": "code",
   "execution_count": 63,
   "metadata": {},
   "outputs": [],
   "source": [
    "def quicksort(arr, depth=0):\n",
    "    \n",
    "    #if len(arr) <= 1:\n",
    "       # return arr\n",
    "    \n",
    "    if not arr:\n",
    "        return \"\", []\n",
    "    else:\n",
    "        pivot = arr[0]\n",
    "    left = [x for x in arr[1:] if x <= pivot]\n",
    "    right = [x for x in arr[1:] if x > pivot]\n",
    "\n",
    "    tree_str = f'\"{pivot}\" [label=\"{pivot}\"];\\n'\n",
    "    tree_str += quicksort(left, depth + 1)[0]\n",
    "    tree_str += quicksort(right, depth + 1)[0]\n",
    "\n",
    "    sorted_list = quicksort(left, depth + 1)[1] + [pivot] + quicksort(right, depth + 1)[1]\n",
    "\n",
    "    return tree_str, sorted_list"
   ]
  },
  {
   "cell_type": "code",
   "execution_count": 64,
   "metadata": {},
   "outputs": [],
   "source": [
    "def quicksort_with_dot(arr, depth=0, dot_code=\"\"):\n",
    "    if not arr:\n",
    "        return dot_code, []\n",
    "\n",
    "    pivot = arr[0]\n",
    "    left = [x for x in arr[1:] if x <= pivot]\n",
    "    right = [x for x in arr[1:] if x > pivot]\n",
    "\n",
    "    dot_code += f'\"{pivot}\" [label=\"{pivot}\"];\\n'\n",
    "    \n",
    "    if left:\n",
    "        dot_code += f'\"{pivot}\" -> \"{left[0]}\" [label=\"L\"];\\n'\n",
    "        dot_code, sorted_left = quicksort_with_dot(left, depth + 1, dot_code)\n",
    "    else:\n",
    "        sorted_left = []\n",
    "\n",
    "    if right:\n",
    "        dot_code += f'\"{pivot}\" -> \"{right[0]}\" [label=\"R\"];\\n'\n",
    "        dot_code, sorted_right = quicksort_with_dot(right, depth + 1, dot_code)\n",
    "    else:\n",
    "        sorted_right = []\n",
    "\n",
    "    sorted_list = sorted_left + [pivot] + sorted_right\n",
    "\n",
    "    return dot_code, sorted_list"
   ]
  },
  {
   "cell_type": "markdown",
   "metadata": {},
   "source": [
    "2. Binary Search Tree"
   ]
  },
  {
   "cell_type": "code",
   "execution_count": 65,
   "metadata": {},
   "outputs": [],
   "source": [
    "# Node class for binary search tree\n",
    "class Node:\n",
    "    def __init__(self, value):\n",
    "        self.value = value\n",
    "        self.left = None\n",
    "        self.right = None\n",
    "\n",
    "# Function to insert a node in the binary search tree\n",
    "def insert(root, value):\n",
    "    if root is None:\n",
    "        return Node(value)\n",
    "    if value < root.value:\n",
    "        root.left = insert(root.left, value)\n",
    "    else:\n",
    "        root.right = insert(root.right, value)\n",
    "    return root"
   ]
  },
  {
   "cell_type": "code",
   "execution_count": 66,
   "metadata": {},
   "outputs": [],
   "source": [
    "def draw_binary_tree_dot(root, dot, depth=0):\n",
    "    if root is None:\n",
    "        return \"\"\n",
    "\n",
    "    tree_str = f'\"{root.value}\" [label=\"{root.value}\"];\\n'\n",
    "    if root.left:\n",
    "        tree_str += f'\"{root.value}\" -> \"{root.left.value}\";\\n'\n",
    "    if root.right:\n",
    "        tree_str += f'\"{root.value}\" -> \"{root.right.value}\";\\n'\n",
    "\n",
    "    tree_str += draw_binary_tree_dot(root.left, dot, depth + 1)\n",
    "    tree_str += draw_binary_tree_dot(root.right, dot, depth + 1)\n",
    "\n",
    "    dot.node(f'{root.value}', label=str(root.value))\n",
    "\n",
    "    if root.left:\n",
    "        dot.edge(f'{root.value}', f'{root.left.value}')\n",
    "    if root.right:\n",
    "        dot.edge(f'{root.value}', f'{root.right.value}')\n",
    "\n",
    "    return tree_str"
   ]
  },
  {
   "cell_type": "markdown",
   "metadata": {},
   "source": [
    "3. READING THE DATA"
   ]
  },
  {
   "cell_type": "code",
   "execution_count": 67,
   "metadata": {},
   "outputs": [],
   "source": [
    "def read_list_from_file(filename):\n",
    "    with open(filename, 'r') as file:\n",
    "        return [int(line.strip()) for line in file]"
   ]
  },
  {
   "cell_type": "code",
   "execution_count": 68,
   "metadata": {},
   "outputs": [],
   "source": [
    "# Specify the file name containing the list of numbers\n",
    "file_name = 'numbers.txt'"
   ]
  },
  {
   "cell_type": "code",
   "execution_count": 69,
   "metadata": {},
   "outputs": [],
   "source": [
    "# Read the list from the file\n",
    "original_list = read_list_from_file(file_name)"
   ]
  },
  {
   "cell_type": "code",
   "execution_count": 70,
   "metadata": {},
   "outputs": [],
   "source": [
    "# Create binary search tree\n",
    "binary_search_tree = None\n",
    "for num in original_list:\n",
    "    binary_search_tree = insert(binary_search_tree, num)"
   ]
  },
  {
   "cell_type": "markdown",
   "metadata": {},
   "source": [
    "4. DRAWING IN DOT FILE"
   ]
  },
  {
   "cell_type": "code",
   "execution_count": 71,
   "metadata": {},
   "outputs": [
    {
     "name": "stdout",
     "output_type": "stream",
     "text": [
      "PNG file generated: quicksort_tree.png\n"
     ]
    },
    {
     "data": {
      "text/plain": [
       "'binary_tree.png'"
      ]
     },
     "execution_count": 71,
     "metadata": {},
     "output_type": "execute_result"
    }
   ],
   "source": [
    "# QUICKSORT TREE\n",
    "\"\"\"\n",
    "# Generate DOT source for quicksort tree and get the sorted list\n",
    "quicksort_dot, quicksort_sorted_list = quicksort(original_list)\n",
    "# Save DOT source to files for quicksort tree and binary search tree\n",
    "with open('quicksort_tree.dot', 'w') as quicksort_file:\n",
    "    quicksort_file.write(quicksort_dot)\n",
    "# Render quicksort DOT file to a PNG image\n",
    "quicksort_image_path = 'quicksort_tree'\n",
    "dot_quicksort = Digraph(comment='Quicksort Tree')\n",
    "dot_quicksort.render(quicksort_image_path, format='png', cleanup=True)\n",
    "\"\"\"\n",
    "\n",
    "dot_code, sorted_list = quicksort_with_dot(original_list)\n",
    "\n",
    "with open('quicksort_tree.dot', 'w') as dot_file:\n",
    "    dot_file.write('digraph QuicksortTree {\\n')\n",
    "    dot_file.write(dot_code)\n",
    "    dot_file.write('}\\n')\n",
    "dot_file_path = 'quicksort_tree.dot'\n",
    "\n",
    "png_output_path = 'quicksort_tree.png'\n",
    "\n",
    "# Run the dot command to generate PNG from DOT file\n",
    "subprocess.run(['dot', '-Tpng', '-o', png_output_path, dot_file_path])\n",
    "\n",
    "print(f\"PNG file generated: {png_output_path}\")\n",
    "\n",
    "# BST TREE\n",
    "binary_search_tree_dot = Digraph(comment='Binary Search Tree')\n",
    "draw_binary_tree_dot(binary_search_tree, binary_search_tree_dot)\n",
    "with open('binary_tree.dot', 'w') as binary_tree_file:\n",
    "    binary_tree_file.write(binary_search_tree_dot.source)\n",
    "# Render binary search tree DOT file to a PNG image\n",
    "binary_search_tree_image_path = 'binary_tree'\n",
    "binary_search_tree_dot.render(binary_search_tree_image_path, format='png', cleanup=True)"
   ]
  },
  {
   "cell_type": "markdown",
   "metadata": {},
   "source": [
    "6. HTML CONTENT"
   ]
  },
  {
   "cell_type": "code",
   "execution_count": 72,
   "metadata": {},
   "outputs": [],
   "source": [
    "# Generate HTML content\n",
    "html_content = f'''\n",
    "<!DOCTYPE html>\n",
    "<html lang=\"en\">\n",
    "<head>\n",
    "    <meta charset=\"UTF-8\">\n",
    "    <meta name=\"viewport\" content=\"width=device-width, initial-scale=1.0\">\n",
    "    <title>Tree Visualization</title>\n",
    "</head>\n",
    "<body>\n",
    "\n",
    "<h1>Tree Visualization</h1>\n",
    "\n",
    "<h2>Original List</h2>\n",
    "<table border=\"1\">\n",
    "    <tr>\n",
    "        <!-- Header Row -->\n",
    "        {\" \".join(f'<th>{i}</th>' for i in range(len(original_list)))}\n",
    "    </tr>\n",
    "    <tr>\n",
    "        <!-- Values Row -->\n",
    "        {\" \".join(f'<td>{value}</td>' for value in original_list)}\n",
    "    </tr>\n",
    "</table>\n",
    "\n",
    "<h2>Quicksort Tree Visualization</h2>\n",
    "<img src=\"{quicksort_image_path}.png\" alt=\"Quicksort Tree\" style=\"max-width: 100%;\">\n",
    "\n",
    "<h2>Sorted List (Quicksort)</h2>\n",
    "<table border=\"1\">\n",
    "    <tr>\n",
    "        <!-- Header Row -->\n",
    "        {\" \".join(f'<th>{i}</th>' for i in range(len(quicksort_sorted_list)))}\n",
    "    </tr>\n",
    "    <tr>\n",
    "        <!-- Values Row -->\n",
    "        {\" \".join(f'<td>{value}</td>' for value in quicksort_sorted_list)}\n",
    "    </tr>\n",
    "</table>\n",
    "\n",
    "<h2>Binary Search Tree Visualization</h2>\n",
    "<img src=\"{binary_search_tree_image_path}.png\" alt=\"Binary Search Tree\" style=\"max-width: 100%;\">\n",
    "\n",
    "</body>\n",
    "</html>\n",
    "'''"
   ]
  },
  {
   "cell_type": "markdown",
   "metadata": {},
   "source": [
    "7. DISPLAYING"
   ]
  },
  {
   "cell_type": "code",
   "execution_count": 73,
   "metadata": {},
   "outputs": [
    {
     "data": {
      "text/plain": [
       "True"
      ]
     },
     "execution_count": 73,
     "metadata": {},
     "output_type": "execute_result"
    }
   ],
   "source": [
    "# Save HTML content to a file\n",
    "with open('tree_visualization.html', 'w') as html_file:\n",
    "    html_file.write(html_content)\n",
    "\n",
    "# Open the HTML file in a web browser\n",
    "import webbrowser\n",
    "webbrowser.open('tree_visualization.html')"
   ]
  }
 ],
 "metadata": {
  "kernelspec": {
   "display_name": "Python 3",
   "language": "python",
   "name": "python3"
  },
  "language_info": {
   "codemirror_mode": {
    "name": "ipython",
    "version": 3
   },
   "file_extension": ".py",
   "mimetype": "text/x-python",
   "name": "python",
   "nbconvert_exporter": "python",
   "pygments_lexer": "ipython3",
   "version": "3.8.10"
  }
 },
 "nbformat": 4,
 "nbformat_minor": 2
}
